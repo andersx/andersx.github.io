{
 "cells": [
  {
   "cell_type": "code",
   "execution_count": 1,
   "id": "65b030e6-3948-4346-9fa2-19adc5fb9272",
   "metadata": {},
   "outputs": [],
   "source": [
    "import plotly.graph_objs as go\n",
    "import pandas as pd\n",
    "import numpy as np"
   ]
  },
  {
   "cell_type": "code",
   "execution_count": 2,
   "id": "45d72560-a08d-4730-8457-b9e066f68d74",
   "metadata": {},
   "outputs": [],
   "source": [
    "# Generate mock data\n",
    "np.random.seed(42)\n",
    "dates = pd.date_range(start=\"2024-01-01\", end=\"2024-12-31\", freq='D')\n",
    "pm25_values = np.random.normal(loc=20, scale=10, size=len(dates)).clip(min=0)  # μ=20, σ=10\n",
    "\n",
    "df = pd.DataFrame({\n",
    "    \"Dato\": dates,\n",
    "    \"PM2.5\": pm25_values\n",
    "})"
   ]
  },
  {
   "cell_type": "code",
   "execution_count": 5,
   "id": "ea5450d0-77f4-49dc-a555-4e440bb8a1a9",
   "metadata": {},
   "outputs": [],
   "source": [
    "# Create plot\n",
    "fig = go.Figure()\n",
    "fig.add_trace(go.Scatter(x=df[\"Dato\"], y=df[\"PM2.5\"], mode='lines', name='PM2.5'))\n",
    "\n",
    "fig.update_layout(\n",
    "    title=\"Mock PM2.5-luftkvalitet over tid\",\n",
    "    xaxis_title=\"Dato\",\n",
    "    yaxis_title=\"PM2.5 (µg/m³)\",\n",
    "    template=\"plotly_white\"\n",
    ")\n",
    "\n",
    "# Save to HTML\n",
    "# fig.write_html(\"../_includes/pm25_air_quality.html\", full_html=False, include_plotlyjs=False)\n",
    "# fig.write_html(\"pm25_air_quality.html\")"
   ]
  },
  {
   "cell_type": "code",
   "execution_count": 6,
   "id": "5699b758-0abb-4e05-8f6f-47d2c5586dde",
   "metadata": {},
   "outputs": [],
   "source": [
    "# Get just the JavaScript code to draw the chart\n",
    "js_code = fig.to_html(full_html=False, include_plotlyjs=False)\n",
    "\n",
    "# Extract only the <script> block content\n",
    "import re\n",
    "\n",
    "script_match = re.search(r\"<script[^>]*>(.*?)</script>\", js_code, re.DOTALL)\n",
    "plotly_js = script_match.group(1).strip() if script_match else \"\"\n"
   ]
  },
  {
   "cell_type": "code",
   "execution_count": 7,
   "id": "db9c6696-36ad-4d91-8a7b-d0b341d4bd23",
   "metadata": {},
   "outputs": [],
   "source": [
    "wrapped_js = f\"\"\"\n",
    "document.addEventListener('DOMContentLoaded', function () {{\n",
    "  {plotly_js}\n",
    "}});\n",
    "\"\"\".strip()\n"
   ]
  },
  {
   "cell_type": "code",
   "execution_count": 9,
   "id": "3f134be5-c3ef-4a8e-ab04-be99408d15ff",
   "metadata": {},
   "outputs": [],
   "source": [
    "with open(\"../assets/js/my-plot.js\", \"w\") as f:\n",
    "    f.write(wrapped_js)\n"
   ]
  },
  {
   "cell_type": "code",
   "execution_count": 10,
   "id": "d261c507-97bf-49f3-8630-34e8356b7bfa",
   "metadata": {},
   "outputs": [],
   "source": [
    "html_content = \"\"\"\n",
    "<!DOCTYPE html>\n",
    "<html lang=\"en\">\n",
    "<head>\n",
    "  <meta charset=\"UTF-8\">\n",
    "  <title>Plotly Chart</title>\n",
    "  <script src=\"https://cdn.plot.ly/plotly-latest.min.js\"></script>\n",
    "  <script src=\"/assets/js/my-plot.js\"></script>\n",
    "</head>\n",
    "<body>\n",
    "  <div id=\"myPlot\" class=\"plotly-graph-div\"></div>\n",
    "</body>\n",
    "</html>\n",
    "\"\"\".strip()\n",
    "\n",
    "with open(\"../assets/pm25_air_quality.html\", \"w\") as f:\n",
    "    f.write(html_content)\n"
   ]
  },
  {
   "cell_type": "code",
   "execution_count": null,
   "id": "ce97bd98-5f3d-4117-b55c-6f70a5cf7d5f",
   "metadata": {},
   "outputs": [],
   "source": []
  }
 ],
 "metadata": {
  "kernelspec": {
   "display_name": "Python 3 (ipykernel)",
   "language": "python",
   "name": "python3"
  },
  "language_info": {
   "codemirror_mode": {
    "name": "ipython",
    "version": 3
   },
   "file_extension": ".py",
   "mimetype": "text/x-python",
   "name": "python",
   "nbconvert_exporter": "python",
   "pygments_lexer": "ipython3",
   "version": "3.11.11"
  }
 },
 "nbformat": 4,
 "nbformat_minor": 5
}
