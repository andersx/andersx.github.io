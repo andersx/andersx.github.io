{
 "cells": [
  {
   "cell_type": "code",
   "execution_count": 1,
   "id": "65b030e6-3948-4346-9fa2-19adc5fb9272",
   "metadata": {},
   "outputs": [],
   "source": [
    "import plotly.graph_objs as go\n",
    "import pandas as pd\n",
    "import numpy as np"
   ]
  },
  {
   "cell_type": "code",
   "execution_count": 2,
   "id": "45d72560-a08d-4730-8457-b9e066f68d74",
   "metadata": {},
   "outputs": [],
   "source": [
    "# Generate mock data\n",
    "np.random.seed(42)\n",
    "dates = pd.date_range(start=\"2024-01-01\", end=\"2024-12-31\", freq='D')\n",
    "pm25_values = np.random.normal(loc=20, scale=10, size=len(dates)).clip(min=0)  # μ=20, σ=10\n",
    "\n",
    "df = pd.DataFrame({\n",
    "    \"Dato\": dates,\n",
    "    \"PM2.5\": pm25_values\n",
    "})"
   ]
  },
  {
   "cell_type": "code",
   "execution_count": 4,
   "id": "ea5450d0-77f4-49dc-a555-4e440bb8a1a9",
   "metadata": {},
   "outputs": [],
   "source": [
    "# Create plot\n",
    "fig = go.Figure()\n",
    "fig.add_trace(go.Scatter(x=df[\"Dato\"], y=df[\"PM2.5\"], mode='lines', name='PM2.5'))\n",
    "\n",
    "fig.update_layout(\n",
    "    title=\"Mock PM2.5-luftkvalitet over tid\",\n",
    "    xaxis_title=\"Dato\",\n",
    "    yaxis_title=\"PM2.5 (µg/m³)\",\n",
    "    template=\"plotly_white\"\n",
    ")\n",
    "\n",
    "# Save to HTML\n",
    "fig.write_html(\"../_includes/pm25_air_quality.html\", full_html=False, include_plotlyjs='cdn')\n",
    "# fig.write_html(\"pm25_air_quality.html\")"
   ]
  },
  {
   "cell_type": "code",
   "execution_count": null,
   "id": "5699b758-0abb-4e05-8f6f-47d2c5586dde",
   "metadata": {},
   "outputs": [],
   "source": []
  }
 ],
 "metadata": {
  "kernelspec": {
   "display_name": "Python 3 (ipykernel)",
   "language": "python",
   "name": "python3"
  },
  "language_info": {
   "codemirror_mode": {
    "name": "ipython",
    "version": 3
   },
   "file_extension": ".py",
   "mimetype": "text/x-python",
   "name": "python",
   "nbconvert_exporter": "python",
   "pygments_lexer": "ipython3",
   "version": "3.11.11"
  }
 },
 "nbformat": 4,
 "nbformat_minor": 5
}
